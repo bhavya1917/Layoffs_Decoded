{
  "cells": [
    {
      "cell_type": "code",
      "source": [
        "%pip install mlxtend --upgrade"
      ],
      "metadata": {
        "id": "Ra6y7Lwg6ZLi"
      },
      "execution_count": null,
      "outputs": []
    },
    {
      "cell_type": "code",
      "execution_count": 67,
      "metadata": {
        "id": "iMpOtYFy0VJ3"
      },
      "outputs": [],
      "source": [
        "import pandas as pd\n",
        "from datetime import datetime\n",
        "import seaborn as sns\n",
        "\n",
        "import re\n",
        "import numpy as np\n",
        "from collections import Counter\n",
        "\n",
        "from sklearn.model_selection import cross_val_score, train_test_split\n",
        "from sklearn.model_selection import RepeatedStratifiedKFold, GridSearchCV\n",
        "from sklearn.linear_model import LogisticRegression, LinearRegression, Lasso\n",
        "from sklearn.tree import DecisionTreeClassifier, DecisionTreeRegressor\n",
        "from sklearn.ensemble import RandomForestClassifier, RandomForestRegressor, GradientBoostingRegressor\n",
        "from sklearn.pipeline import Pipeline\n",
        "from sklearn.preprocessing import StandardScaler\n",
        "from sklearn.metrics import roc_auc_score, f1_score, accuracy_score, recall_score, precision_score\n",
        "from sklearn.metrics import mean_squared_error, r2_score, mean_absolute_percentage_error, make_scorer\n",
        "from sklearn.compose import TransformedTargetRegressor\n",
        "\n",
        "from imblearn.under_sampling import TomekLinks\n",
        "from imblearn.over_sampling import SMOTE\n",
        "\n",
        "from mlxtend.feature_selection import SequentialFeatureSelector as SFS\n",
        "from mlxtend.plotting import plot_sequential_feature_selection as plot_sfs\n",
        "\n",
        "import matplotlib.pyplot as plt\n",
        "\n",
        "# from mlxtend.feature_selection import SequentialFeatureSelector as SFS\n",
        "# from keras import Input, Model, optimizers, callbacks\n",
        "# from keras.layers import Bidirectional, LSTM, Dense, Concatenate\n",
        "# from keras import backend as K"
      ]
    },
    {
      "cell_type": "code",
      "source": [
        "from google.colab import drive\n",
        "drive.mount('/content/drive')"
      ],
      "metadata": {
        "colab": {
          "base_uri": "https://localhost:8080/"
        },
        "id": "KX5o4FbN2iq_",
        "outputId": "039f5b9f-56cc-431d-9b82-0a948977e996"
      },
      "execution_count": 6,
      "outputs": [
        {
          "output_type": "stream",
          "name": "stdout",
          "text": [
            "Drive already mounted at /content/drive; to attempt to forcibly remount, call drive.mount(\"/content/drive\", force_remount=True).\n"
          ]
        }
      ]
    },
    {
      "cell_type": "code",
      "execution_count": 121,
      "metadata": {
        "colab": {
          "base_uri": "https://localhost:8080/",
          "height": 411
        },
        "id": "6gp5quq70VJ6",
        "outputId": "4a441627-a169-40bd-f5d5-4e0b9c587660"
      },
      "outputs": [
        {
          "output_type": "execute_result",
          "data": {
            "text/plain": [
              "        Unnamed: 0         Year      Quarter  Number of Workers  \\\n",
              "count  1462.000000  1462.000000  1462.000000        1462.000000   \n",
              "mean    843.616963  2015.253762     2.407661         268.234610   \n",
              "std     486.717864     5.277959     1.111521         819.088999   \n",
              "min       0.000000  2000.000000     1.000000           1.000000   \n",
              "25%     421.250000  2012.000000     1.000000          62.000000   \n",
              "50%     857.000000  2017.000000     2.000000         111.000000   \n",
              "75%    1263.750000  2020.000000     3.000000         231.000000   \n",
              "max    1686.000000  2022.000000     4.000000       16337.000000   \n",
              "\n",
              "       Number of Layoffs       revenue  costOfRevenue   grossProfit  \\\n",
              "count        1462.000000  1.462000e+03   1.462000e+03  1.462000e+03   \n",
              "mean            1.441176  7.777767e+09   5.191190e+09  2.363358e+09   \n",
              "std             1.314491  1.620592e+10   1.227020e+10  4.969106e+09   \n",
              "min             1.000000 -1.500000e+09  -2.880470e+08 -6.337000e+09   \n",
              "25%             1.000000  6.499255e+08   3.241555e+08  1.172002e+08   \n",
              "50%             1.000000  2.716686e+09   1.475294e+09  5.974970e+08   \n",
              "75%             1.000000  8.617500e+09   4.663750e+09  2.229000e+09   \n",
              "max            16.000000  1.528590e+11   1.158380e+11  3.702100e+10   \n",
              "\n",
              "       grossProfitRatio  ResearchAndDevelopmentExpenses  ...  freeCashFlow  \\\n",
              "count       1462.000000                    1.462000e+03  ...  1.462000e+03   \n",
              "mean           0.259750                    2.122710e+08  ...  6.068776e+08   \n",
              "std            1.331939                    5.674369e+08  ...  1.609967e+09   \n",
              "min          -48.967742                    0.000000e+00  ... -7.297000e+09   \n",
              "25%            0.134756                    0.000000e+00  ... -8.755250e+06   \n",
              "50%            0.275973                    0.000000e+00  ...  9.570650e+07   \n",
              "75%            0.445867                    2.166450e+07  ...  6.710000e+08   \n",
              "max            2.229273                    3.948000e+09  ...  1.122100e+10   \n",
              "\n",
              "       employee_count  percent_layoff  industry_labelled      new_cases  \\\n",
              "count    1.462000e+03     1462.000000        1462.000000    1462.000000   \n",
              "mean     7.689095e+04        0.095515         284.163475   17419.430651   \n",
              "std      2.467619e+05        1.024988         171.006502   44174.395601   \n",
              "min      4.000000e+00        0.000007           0.000000       0.000000   \n",
              "25%      5.728500e+03        0.001640         124.250000       0.000000   \n",
              "50%      2.156600e+04        0.005939         307.000000       0.000000   \n",
              "75%      7.044700e+04        0.021481         419.750000    2404.763889   \n",
              "max      2.300000e+06       32.500000         578.000000  287196.233333   \n",
              "\n",
              "       new_cases_smoothed  new_cases_per_million   new_deaths  \\\n",
              "count         1462.000000            1462.000000  1462.000000   \n",
              "mean         17404.778889              51.492620   263.895534   \n",
              "std          44896.022382             130.581491   547.688827   \n",
              "min              0.000000               0.000000     0.000000   \n",
              "25%              0.000000               0.000000     0.000000   \n",
              "50%              0.000000               0.000000     0.000000   \n",
              "75%           1538.313444               7.108639    46.208333   \n",
              "max         298754.488933             848.964922  2236.066667   \n",
              "\n",
              "       new_deaths_smoothed  new_deaths_per_million  \n",
              "count          1462.000000             1462.000000  \n",
              "mean            262.732175                0.780093  \n",
              "std             548.367826                1.619003  \n",
              "min               0.000000                0.000000  \n",
              "25%               0.000000                0.000000  \n",
              "50%               0.000000                0.000000  \n",
              "75%              25.271847                0.136639  \n",
              "max            2291.728556                6.609944  \n",
              "\n",
              "[8 rows x 109 columns]"
            ],
            "text/html": [
              "\n",
              "  <div id=\"df-ab619e6a-3f69-40e3-9767-c8171cc2aff6\">\n",
              "    <div class=\"colab-df-container\">\n",
              "      <div>\n",
              "<style scoped>\n",
              "    .dataframe tbody tr th:only-of-type {\n",
              "        vertical-align: middle;\n",
              "    }\n",
              "\n",
              "    .dataframe tbody tr th {\n",
              "        vertical-align: top;\n",
              "    }\n",
              "\n",
              "    .dataframe thead th {\n",
              "        text-align: right;\n",
              "    }\n",
              "</style>\n",
              "<table border=\"1\" class=\"dataframe\">\n",
              "  <thead>\n",
              "    <tr style=\"text-align: right;\">\n",
              "      <th></th>\n",
              "      <th>Unnamed: 0</th>\n",
              "      <th>Year</th>\n",
              "      <th>Quarter</th>\n",
              "      <th>Number of Workers</th>\n",
              "      <th>Number of Layoffs</th>\n",
              "      <th>revenue</th>\n",
              "      <th>costOfRevenue</th>\n",
              "      <th>grossProfit</th>\n",
              "      <th>grossProfitRatio</th>\n",
              "      <th>ResearchAndDevelopmentExpenses</th>\n",
              "      <th>...</th>\n",
              "      <th>freeCashFlow</th>\n",
              "      <th>employee_count</th>\n",
              "      <th>percent_layoff</th>\n",
              "      <th>industry_labelled</th>\n",
              "      <th>new_cases</th>\n",
              "      <th>new_cases_smoothed</th>\n",
              "      <th>new_cases_per_million</th>\n",
              "      <th>new_deaths</th>\n",
              "      <th>new_deaths_smoothed</th>\n",
              "      <th>new_deaths_per_million</th>\n",
              "    </tr>\n",
              "  </thead>\n",
              "  <tbody>\n",
              "    <tr>\n",
              "      <th>count</th>\n",
              "      <td>1462.000000</td>\n",
              "      <td>1462.000000</td>\n",
              "      <td>1462.000000</td>\n",
              "      <td>1462.000000</td>\n",
              "      <td>1462.000000</td>\n",
              "      <td>1.462000e+03</td>\n",
              "      <td>1.462000e+03</td>\n",
              "      <td>1.462000e+03</td>\n",
              "      <td>1462.000000</td>\n",
              "      <td>1.462000e+03</td>\n",
              "      <td>...</td>\n",
              "      <td>1.462000e+03</td>\n",
              "      <td>1.462000e+03</td>\n",
              "      <td>1462.000000</td>\n",
              "      <td>1462.000000</td>\n",
              "      <td>1462.000000</td>\n",
              "      <td>1462.000000</td>\n",
              "      <td>1462.000000</td>\n",
              "      <td>1462.000000</td>\n",
              "      <td>1462.000000</td>\n",
              "      <td>1462.000000</td>\n",
              "    </tr>\n",
              "    <tr>\n",
              "      <th>mean</th>\n",
              "      <td>843.616963</td>\n",
              "      <td>2015.253762</td>\n",
              "      <td>2.407661</td>\n",
              "      <td>268.234610</td>\n",
              "      <td>1.441176</td>\n",
              "      <td>7.777767e+09</td>\n",
              "      <td>5.191190e+09</td>\n",
              "      <td>2.363358e+09</td>\n",
              "      <td>0.259750</td>\n",
              "      <td>2.122710e+08</td>\n",
              "      <td>...</td>\n",
              "      <td>6.068776e+08</td>\n",
              "      <td>7.689095e+04</td>\n",
              "      <td>0.095515</td>\n",
              "      <td>284.163475</td>\n",
              "      <td>17419.430651</td>\n",
              "      <td>17404.778889</td>\n",
              "      <td>51.492620</td>\n",
              "      <td>263.895534</td>\n",
              "      <td>262.732175</td>\n",
              "      <td>0.780093</td>\n",
              "    </tr>\n",
              "    <tr>\n",
              "      <th>std</th>\n",
              "      <td>486.717864</td>\n",
              "      <td>5.277959</td>\n",
              "      <td>1.111521</td>\n",
              "      <td>819.088999</td>\n",
              "      <td>1.314491</td>\n",
              "      <td>1.620592e+10</td>\n",
              "      <td>1.227020e+10</td>\n",
              "      <td>4.969106e+09</td>\n",
              "      <td>1.331939</td>\n",
              "      <td>5.674369e+08</td>\n",
              "      <td>...</td>\n",
              "      <td>1.609967e+09</td>\n",
              "      <td>2.467619e+05</td>\n",
              "      <td>1.024988</td>\n",
              "      <td>171.006502</td>\n",
              "      <td>44174.395601</td>\n",
              "      <td>44896.022382</td>\n",
              "      <td>130.581491</td>\n",
              "      <td>547.688827</td>\n",
              "      <td>548.367826</td>\n",
              "      <td>1.619003</td>\n",
              "    </tr>\n",
              "    <tr>\n",
              "      <th>min</th>\n",
              "      <td>0.000000</td>\n",
              "      <td>2000.000000</td>\n",
              "      <td>1.000000</td>\n",
              "      <td>1.000000</td>\n",
              "      <td>1.000000</td>\n",
              "      <td>-1.500000e+09</td>\n",
              "      <td>-2.880470e+08</td>\n",
              "      <td>-6.337000e+09</td>\n",
              "      <td>-48.967742</td>\n",
              "      <td>0.000000e+00</td>\n",
              "      <td>...</td>\n",
              "      <td>-7.297000e+09</td>\n",
              "      <td>4.000000e+00</td>\n",
              "      <td>0.000007</td>\n",
              "      <td>0.000000</td>\n",
              "      <td>0.000000</td>\n",
              "      <td>0.000000</td>\n",
              "      <td>0.000000</td>\n",
              "      <td>0.000000</td>\n",
              "      <td>0.000000</td>\n",
              "      <td>0.000000</td>\n",
              "    </tr>\n",
              "    <tr>\n",
              "      <th>25%</th>\n",
              "      <td>421.250000</td>\n",
              "      <td>2012.000000</td>\n",
              "      <td>1.000000</td>\n",
              "      <td>62.000000</td>\n",
              "      <td>1.000000</td>\n",
              "      <td>6.499255e+08</td>\n",
              "      <td>3.241555e+08</td>\n",
              "      <td>1.172002e+08</td>\n",
              "      <td>0.134756</td>\n",
              "      <td>0.000000e+00</td>\n",
              "      <td>...</td>\n",
              "      <td>-8.755250e+06</td>\n",
              "      <td>5.728500e+03</td>\n",
              "      <td>0.001640</td>\n",
              "      <td>124.250000</td>\n",
              "      <td>0.000000</td>\n",
              "      <td>0.000000</td>\n",
              "      <td>0.000000</td>\n",
              "      <td>0.000000</td>\n",
              "      <td>0.000000</td>\n",
              "      <td>0.000000</td>\n",
              "    </tr>\n",
              "    <tr>\n",
              "      <th>50%</th>\n",
              "      <td>857.000000</td>\n",
              "      <td>2017.000000</td>\n",
              "      <td>2.000000</td>\n",
              "      <td>111.000000</td>\n",
              "      <td>1.000000</td>\n",
              "      <td>2.716686e+09</td>\n",
              "      <td>1.475294e+09</td>\n",
              "      <td>5.974970e+08</td>\n",
              "      <td>0.275973</td>\n",
              "      <td>0.000000e+00</td>\n",
              "      <td>...</td>\n",
              "      <td>9.570650e+07</td>\n",
              "      <td>2.156600e+04</td>\n",
              "      <td>0.005939</td>\n",
              "      <td>307.000000</td>\n",
              "      <td>0.000000</td>\n",
              "      <td>0.000000</td>\n",
              "      <td>0.000000</td>\n",
              "      <td>0.000000</td>\n",
              "      <td>0.000000</td>\n",
              "      <td>0.000000</td>\n",
              "    </tr>\n",
              "    <tr>\n",
              "      <th>75%</th>\n",
              "      <td>1263.750000</td>\n",
              "      <td>2020.000000</td>\n",
              "      <td>3.000000</td>\n",
              "      <td>231.000000</td>\n",
              "      <td>1.000000</td>\n",
              "      <td>8.617500e+09</td>\n",
              "      <td>4.663750e+09</td>\n",
              "      <td>2.229000e+09</td>\n",
              "      <td>0.445867</td>\n",
              "      <td>2.166450e+07</td>\n",
              "      <td>...</td>\n",
              "      <td>6.710000e+08</td>\n",
              "      <td>7.044700e+04</td>\n",
              "      <td>0.021481</td>\n",
              "      <td>419.750000</td>\n",
              "      <td>2404.763889</td>\n",
              "      <td>1538.313444</td>\n",
              "      <td>7.108639</td>\n",
              "      <td>46.208333</td>\n",
              "      <td>25.271847</td>\n",
              "      <td>0.136639</td>\n",
              "    </tr>\n",
              "    <tr>\n",
              "      <th>max</th>\n",
              "      <td>1686.000000</td>\n",
              "      <td>2022.000000</td>\n",
              "      <td>4.000000</td>\n",
              "      <td>16337.000000</td>\n",
              "      <td>16.000000</td>\n",
              "      <td>1.528590e+11</td>\n",
              "      <td>1.158380e+11</td>\n",
              "      <td>3.702100e+10</td>\n",
              "      <td>2.229273</td>\n",
              "      <td>3.948000e+09</td>\n",
              "      <td>...</td>\n",
              "      <td>1.122100e+10</td>\n",
              "      <td>2.300000e+06</td>\n",
              "      <td>32.500000</td>\n",
              "      <td>578.000000</td>\n",
              "      <td>287196.233333</td>\n",
              "      <td>298754.488933</td>\n",
              "      <td>848.964922</td>\n",
              "      <td>2236.066667</td>\n",
              "      <td>2291.728556</td>\n",
              "      <td>6.609944</td>\n",
              "    </tr>\n",
              "  </tbody>\n",
              "</table>\n",
              "<p>8 rows × 109 columns</p>\n",
              "</div>\n",
              "      <button class=\"colab-df-convert\" onclick=\"convertToInteractive('df-ab619e6a-3f69-40e3-9767-c8171cc2aff6')\"\n",
              "              title=\"Convert this dataframe to an interactive table.\"\n",
              "              style=\"display:none;\">\n",
              "        \n",
              "  <svg xmlns=\"http://www.w3.org/2000/svg\" height=\"24px\"viewBox=\"0 0 24 24\"\n",
              "       width=\"24px\">\n",
              "    <path d=\"M0 0h24v24H0V0z\" fill=\"none\"/>\n",
              "    <path d=\"M18.56 5.44l.94 2.06.94-2.06 2.06-.94-2.06-.94-.94-2.06-.94 2.06-2.06.94zm-11 1L8.5 8.5l.94-2.06 2.06-.94-2.06-.94L8.5 2.5l-.94 2.06-2.06.94zm10 10l.94 2.06.94-2.06 2.06-.94-2.06-.94-.94-2.06-.94 2.06-2.06.94z\"/><path d=\"M17.41 7.96l-1.37-1.37c-.4-.4-.92-.59-1.43-.59-.52 0-1.04.2-1.43.59L10.3 9.45l-7.72 7.72c-.78.78-.78 2.05 0 2.83L4 21.41c.39.39.9.59 1.41.59.51 0 1.02-.2 1.41-.59l7.78-7.78 2.81-2.81c.8-.78.8-2.07 0-2.86zM5.41 20L4 18.59l7.72-7.72 1.47 1.35L5.41 20z\"/>\n",
              "  </svg>\n",
              "      </button>\n",
              "      \n",
              "  <style>\n",
              "    .colab-df-container {\n",
              "      display:flex;\n",
              "      flex-wrap:wrap;\n",
              "      gap: 12px;\n",
              "    }\n",
              "\n",
              "    .colab-df-convert {\n",
              "      background-color: #E8F0FE;\n",
              "      border: none;\n",
              "      border-radius: 50%;\n",
              "      cursor: pointer;\n",
              "      display: none;\n",
              "      fill: #1967D2;\n",
              "      height: 32px;\n",
              "      padding: 0 0 0 0;\n",
              "      width: 32px;\n",
              "    }\n",
              "\n",
              "    .colab-df-convert:hover {\n",
              "      background-color: #E2EBFA;\n",
              "      box-shadow: 0px 1px 2px rgba(60, 64, 67, 0.3), 0px 1px 3px 1px rgba(60, 64, 67, 0.15);\n",
              "      fill: #174EA6;\n",
              "    }\n",
              "\n",
              "    [theme=dark] .colab-df-convert {\n",
              "      background-color: #3B4455;\n",
              "      fill: #D2E3FC;\n",
              "    }\n",
              "\n",
              "    [theme=dark] .colab-df-convert:hover {\n",
              "      background-color: #434B5C;\n",
              "      box-shadow: 0px 1px 3px 1px rgba(0, 0, 0, 0.15);\n",
              "      filter: drop-shadow(0px 1px 2px rgba(0, 0, 0, 0.3));\n",
              "      fill: #FFFFFF;\n",
              "    }\n",
              "  </style>\n",
              "\n",
              "      <script>\n",
              "        const buttonEl =\n",
              "          document.querySelector('#df-ab619e6a-3f69-40e3-9767-c8171cc2aff6 button.colab-df-convert');\n",
              "        buttonEl.style.display =\n",
              "          google.colab.kernel.accessAllowed ? 'block' : 'none';\n",
              "\n",
              "        async function convertToInteractive(key) {\n",
              "          const element = document.querySelector('#df-ab619e6a-3f69-40e3-9767-c8171cc2aff6');\n",
              "          const dataTable =\n",
              "            await google.colab.kernel.invokeFunction('convertToInteractive',\n",
              "                                                     [key], {});\n",
              "          if (!dataTable) return;\n",
              "\n",
              "          const docLinkHtml = 'Like what you see? Visit the ' +\n",
              "            '<a target=\"_blank\" href=https://colab.research.google.com/notebooks/data_table.ipynb>data table notebook</a>'\n",
              "            + ' to learn more about interactive tables.';\n",
              "          element.innerHTML = '';\n",
              "          dataTable['output_type'] = 'display_data';\n",
              "          await google.colab.output.renderOutput(dataTable, element);\n",
              "          const docLink = document.createElement('div');\n",
              "          docLink.innerHTML = docLinkHtml;\n",
              "          element.appendChild(docLink);\n",
              "        }\n",
              "      </script>\n",
              "    </div>\n",
              "  </div>\n",
              "  "
            ]
          },
          "metadata": {},
          "execution_count": 121
        }
      ],
      "source": [
        "df = pd.read_csv(\"/content/drive/MyDrive/Colab Notebooks/data/final_combind.csv\")\n",
        "# df = df.drop(['Unnamed: 0'], axis=1)\n",
        "# df = df[df['Year']>2019]\n",
        "df = df.dropna()\n",
        "df = df[df['Number of Workers']>0]\n",
        "# df[df['Number of Workers']>16000]\n",
        "df.describe()"
      ]
    },
    {
      "cell_type": "code",
      "source": [
        "def forward_elimination_feature_selection(inp_df, num_features):\n",
        "    input_df = inp_df.drop(columns={'Number of Workers','percent_layoff','Unnamed: 0','Number of Layoffs'})\n",
        "    X = input_df\n",
        "    y = inp_df['Number of Workers']\n",
        "\n",
        "    #Define Sequential Forward Selection (sfs)\n",
        "    sfs = SFS(GradientBoostingRegressor(),\n",
        "            k_features=num_features,\n",
        "            forward=True,\n",
        "            floating=False,\n",
        "            scoring = 'r2',\n",
        "            cv = 0)\n",
        "    #Use SFS to select the top 5 features \n",
        "    sfs.fit(X, y)\n",
        "\n",
        "    #Create a dataframe for the SFS results \n",
        "    df_SFS_results = pd.DataFrame(sfs.subsets_).transpose()\n",
        "    \n",
        "    #plot\n",
        "    fig = plot_sfs(sfs.get_metric_dict(), kind='std_err', figsize=(25,10))\n",
        "    plt.title('Sequential Forward Selection (w. StdErr)')\n",
        "    plt.grid()\n",
        "    plt.show()\n",
        "    df_SFS_results = df_SFS_results.get([\"avg_score\",\"feature_names\"]).reset_index().rename(columns={'index': 'label'})\n",
        "    df_SFS_results['label'] = 'Label_' + df_SFS_results['label'].astype(str)\n",
        "    return df_SFS_results\n"
      ],
      "metadata": {
        "id": "n7Tx3hMg6Qw7"
      },
      "execution_count": 104,
      "outputs": []
    },
    {
      "cell_type": "code",
      "source": [
        "y = df['Number of Workers']\n",
        "X = df\n",
        "X_train, X_test, y_train, y_test = train_test_split(X, y, test_size=0.2, random_state=42)\n"
      ],
      "metadata": {
        "id": "8bKU7qnt_9n8"
      },
      "execution_count": 130,
      "outputs": []
    },
    {
      "cell_type": "code",
      "source": [
        "sfs_results = forward_elimination_feature_selection(X_train, 15)"
      ],
      "metadata": {
        "id": "yv8z1ejG75vM"
      },
      "execution_count": null,
      "outputs": []
    },
    {
      "cell_type": "code",
      "source": [
        "sfs_results['feature_names'].values"
      ],
      "metadata": {
        "colab": {
          "base_uri": "https://localhost:8080/"
        },
        "id": "nO99pgSp9Sky",
        "outputId": "97b2bd92-cf0f-410c-fdb8-6d3102ff6c37"
      },
      "execution_count": 94,
      "outputs": [
        {
          "output_type": "execute_result",
          "data": {
            "text/plain": [
              "array([('goodwillAndIntangibleAssets',),\n",
              "       ('operatingIncomeRatio', 'goodwillAndIntangibleAssets'),\n",
              "       ('operatingIncomeRatio', 'goodwillAndIntangibleAssets', 'otherWorkingCapital'),\n",
              "       ('operatingIncomeRatio', 'goodwillAndIntangibleAssets', 'otherWorkingCapital', 'effectOfForexChangesOnCash'),\n",
              "       ('operatingIncomeRatio', 'goodwillAndIntangibleAssets', 'otherWorkingCapital', 'effectOfForexChangesOnCash', 'capitalExpenditure'),\n",
              "       ('operatingIncomeRatio', 'goodwill', 'goodwillAndIntangibleAssets', 'otherWorkingCapital', 'effectOfForexChangesOnCash', 'capitalExpenditure'),\n",
              "       ('operatingIncomeRatio', 'goodwill', 'goodwillAndIntangibleAssets', 'otherWorkingCapital', 'debtRepayment', 'effectOfForexChangesOnCash', 'capitalExpenditure'),\n",
              "       ('depreciationAndAmortization', 'operatingIncomeRatio', 'goodwill', 'goodwillAndIntangibleAssets', 'otherWorkingCapital', 'debtRepayment', 'effectOfForexChangesOnCash', 'capitalExpenditure'),\n",
              "       ('depreciationAndAmortization', 'operatingIncomeRatio', 'goodwill', 'goodwillAndIntangibleAssets', 'otherWorkingCapital', 'salesMaturitiesOfInvestments', 'debtRepayment', 'effectOfForexChangesOnCash', 'capitalExpenditure'),\n",
              "       ('depreciationAndAmortization', 'operatingIncomeRatio', 'incomeBeforeTax', 'goodwill', 'goodwillAndIntangibleAssets', 'otherWorkingCapital', 'salesMaturitiesOfInvestments', 'debtRepayment', 'effectOfForexChangesOnCash', 'capitalExpenditure'),\n",
              "       ('depreciationAndAmortization', 'operatingIncomeRatio', 'incomeBeforeTax', 'goodwill', 'goodwillAndIntangibleAssets', 'otherWorkingCapital', 'salesMaturitiesOfInvestments', 'debtRepayment', 'effectOfForexChangesOnCash', 'capitalExpenditure', 'employee_count'),\n",
              "       ('depreciationAndAmortization', 'operatingIncomeRatio', 'incomeBeforeTax', 'goodwill', 'goodwillAndIntangibleAssets', 'accumulatedOtherComprehensiveIncomeLoss', 'otherWorkingCapital', 'salesMaturitiesOfInvestments', 'debtRepayment', 'effectOfForexChangesOnCash', 'capitalExpenditure', 'employee_count'),\n",
              "       ('depreciationAndAmortization', 'operatingIncomeRatio', 'totalOtherIncomeExpensesNet', 'incomeBeforeTax', 'goodwill', 'goodwillAndIntangibleAssets', 'accumulatedOtherComprehensiveIncomeLoss', 'otherWorkingCapital', 'salesMaturitiesOfInvestments', 'debtRepayment', 'effectOfForexChangesOnCash', 'capitalExpenditure', 'employee_count'),\n",
              "       ('depreciationAndAmortization', 'operatingIncomeRatio', 'totalOtherIncomeExpensesNet', 'incomeBeforeTax', 'goodwill', 'goodwillAndIntangibleAssets', 'longTermDebt', 'accumulatedOtherComprehensiveIncomeLoss', 'otherWorkingCapital', 'salesMaturitiesOfInvestments', 'debtRepayment', 'effectOfForexChangesOnCash', 'capitalExpenditure', 'employee_count'),\n",
              "       ('depreciationAndAmortization', 'operatingIncomeRatio', 'totalOtherIncomeExpensesNet', 'incomeBeforeTax', 'goodwill', 'goodwillAndIntangibleAssets', 'longTermDebt', 'accumulatedOtherComprehensiveIncomeLoss', 'otherWorkingCapital', 'acquisitionsNet', 'salesMaturitiesOfInvestments', 'debtRepayment', 'effectOfForexChangesOnCash', 'capitalExpenditure', 'employee_count')],\n",
              "      dtype=object)"
            ]
          },
          "metadata": {},
          "execution_count": 94
        }
      ]
    },
    {
      "cell_type": "code",
      "execution_count": 123,
      "metadata": {
        "id": "IMVvt51E0VJ7"
      },
      "outputs": [],
      "source": [
        "# features = ['depreciationAndAmortization', 'operatingIncomeRatio', 'totalOtherIncomeExpensesNet', 'incomeBeforeTax', 'goodwill', 'goodwillAndIntangibleAssets', 'longTermDebt', 'accumulatedOtherComprehensiveIncomeLoss', 'otherWorkingCapital', 'acquisitionsNet', 'salesMaturitiesOfInvestments', 'debtRepayment', 'effectOfForexChangesOnCash', 'capitalExpenditure', 'employee_count']\n",
        "features = ['grossProfit', 'weightedAverageShsOutDil', 'otherCurrentAssets', 'intangibleAssets', 'goodwillAndIntangibleAssets', 'longTermInvestments', 'totalNonCurrentLiabilities', 'netDebt', 'inventory_cash-flow-statement', 'employee_count']\n",
        "# features = ['otherExpenses', 'EBITDA', 'inventory', 'goodwill', 'retainedEarnings']\n",
        "X_train = X_train[features]\n",
        "X_test = X_test[features]\n",
        "# y = df['Number of Workers']"
      ]
    },
    {
      "cell_type": "code",
      "execution_count": 124,
      "metadata": {
        "id": "iIDLHpbj0VJ8"
      },
      "outputs": [],
      "source": [
        "def do_regression_grid_search(X_train, X_test, y_train, y_test, model, param_grid, scoring, refit):\n",
        "    # X_train, X_test, y_train, y_test = \\\n",
        "    #     train_test_split(X, y, test_size=0.2)\n",
        "    wrapped_model = TransformedTargetRegressor(regressor=model, transformer=StandardScaler())\n",
        "\n",
        "    gs = GridSearchCV(\n",
        "        wrapped_model,\n",
        "        param_grid=param_grid,\n",
        "        scoring=scoring,\n",
        "        refit=refit,\n",
        "        n_jobs=-1,\n",
        "        return_train_score=True,\n",
        "        cv=5\n",
        "    )\n",
        "    gs.fit(X_train, y_train)\n",
        "\n",
        "    y_test_hat = gs.predict(X_test)\n",
        "    # The mean squared error\n",
        "    print(\"MSE: %.2f\" % mean_squared_error(y_test, y_test_hat))\n",
        "    # The coefficient of determination: 1 is perfect prediction\n",
        "    print(\"R2: %.2f\" % r2_score(y_test, y_test_hat))\n",
        "    print(\"MAPE: %.2f\" % mean_absolute_percentage_error(y_test, y_test_hat))"
      ]
    },
    {
      "cell_type": "code",
      "execution_count": 125,
      "metadata": {
        "id": "K-KF48ED0VJ9"
      },
      "outputs": [],
      "source": [
        "scoring = {\"mse\": make_scorer(mean_squared_error, greater_is_better=False), \"r2\": make_scorer(r2_score)}\n",
        "refit = \"r2\""
      ]
    },
    {
      "cell_type": "code",
      "execution_count": 126,
      "metadata": {
        "colab": {
          "base_uri": "https://localhost:8080/"
        },
        "id": "H0Qy3bYl0VJ9",
        "outputId": "1a9e58df-1b51-4eaa-8f35-5bf8996fffd0"
      },
      "outputs": [
        {
          "output_type": "stream",
          "name": "stdout",
          "text": [
            "MSE: 1286924.00\n",
            "R2: 0.19\n",
            "MAPE: 5.22\n"
          ]
        }
      ],
      "source": [
        "dtree_regr = DecisionTreeRegressor(random_state=42)\n",
        "\n",
        "param_grid = {\n",
        "    \"regressor__regressor__min_samples_split\": range(2, 101, 20),\n",
        "    \"regressor__regressor__max_depth\": [5, 10, 15],\n",
        "}\n",
        "\n",
        "pipeline = Pipeline([\n",
        "    ('scaler', StandardScaler()),\n",
        "    ('regressor', dtree_regr)\n",
        "])\n",
        "\n",
        "do_regression_grid_search(X_train, X_test, y_train, y_test, pipeline, param_grid=param_grid, scoring=scoring, refit=refit)"
      ]
    },
    {
      "cell_type": "code",
      "execution_count": 127,
      "metadata": {
        "colab": {
          "base_uri": "https://localhost:8080/"
        },
        "id": "_wBEVtrn0VJ-",
        "outputId": "70848730-58e1-4302-9e35-3d52f2c5b544"
      },
      "outputs": [
        {
          "output_type": "stream",
          "name": "stdout",
          "text": [
            "MSE: 876846.00\n",
            "R2: 0.45\n",
            "MAPE: 5.39\n"
          ]
        }
      ],
      "source": [
        "rf_regr = RandomForestRegressor(random_state=42)\n",
        "\n",
        "param_grid = {\n",
        "    \"regressor__regressor__n_estimators\": range(2, 101, 20),\n",
        "    \"regressor__regressor__max_depth\": [5, 10, 15],\n",
        "}\n",
        "\n",
        "pipeline = Pipeline([\n",
        "    ('scaler', StandardScaler()),\n",
        "    ('regressor', rf_regr)\n",
        "])\n",
        "\n",
        "do_regression_grid_search(X_train, X_test, y_train, y_test, pipeline, param_grid=param_grid, scoring=scoring, refit=refit)"
      ]
    },
    {
      "cell_type": "code",
      "source": [
        "gbt_regr = GradientBoostingRegressor(random_state=42)\n",
        "\n",
        "param_grid = {\n",
        "    \"regressor__regressor__n_estimators\": range(2, 101, 20),\n",
        "    \"regressor__regressor__max_depth\": [5, 10, 15],\n",
        "    \"regressor__regressor__learning_rate\": [0.0001, 0.001, 0.01],\n",
        "}\n",
        "\n",
        "pipeline = Pipeline([\n",
        "    ('scaler', StandardScaler()),\n",
        "    ('regressor', gbt_regr)\n",
        "])\n",
        "\n",
        "do_regression_grid_search(X_train, X_test, y_train, y_test, pipeline, param_grid=param_grid, scoring=scoring, refit=refit)"
      ],
      "metadata": {
        "colab": {
          "base_uri": "https://localhost:8080/"
        },
        "id": "NaeXg8ds3pMB",
        "outputId": "686602eb-e5df-4738-df20-77a16e850f97"
      },
      "execution_count": 128,
      "outputs": [
        {
          "output_type": "stream",
          "name": "stdout",
          "text": [
            "MSE: 1159028.95\n",
            "R2: 0.27\n",
            "MAPE: 6.15\n"
          ]
        }
      ]
    },
    {
      "cell_type": "code",
      "source": [
        "lasso_regr = Lasso(random_state=42)\n",
        "\n",
        "param_grid = {\n",
        "    # \"regressor__regressor__n_estimators\": range(2, 101, 20),\n",
        "    # \"regressor__regressor__max_depth\": [5, 10, 15],\n",
        "    # \"regressor__regressor__learning_rate\": [0.0001, 0.001, 0.01],\n",
        "}\n",
        "\n",
        "pipeline = Pipeline([\n",
        "    ('scaler', StandardScaler()),\n",
        "    ('regressor', lasso_regr)\n",
        "])\n",
        "\n",
        "do_regression_grid_search(X_train, X_test, y_train, y_test, pipeline, param_grid=param_grid, scoring=scoring, refit=refit)"
      ],
      "metadata": {
        "colab": {
          "base_uri": "https://localhost:8080/"
        },
        "id": "MVgccxvaMR6m",
        "outputId": "3ac57626-f5ee-4cde-c673-86784b2ab577"
      },
      "execution_count": 129,
      "outputs": [
        {
          "output_type": "stream",
          "name": "stdout",
          "text": [
            "MSE: 1587982.89\n",
            "R2: -0.00\n",
            "MAPE: 6.65\n"
          ]
        }
      ]
    }
  ],
  "metadata": {
    "kernelspec": {
      "display_name": "ds",
      "language": "python",
      "name": "python3"
    },
    "language_info": {
      "codemirror_mode": {
        "name": "ipython",
        "version": 3
      },
      "file_extension": ".py",
      "mimetype": "text/x-python",
      "name": "python",
      "nbconvert_exporter": "python",
      "pygments_lexer": "ipython3",
      "version": "3.9.16"
    },
    "orig_nbformat": 4,
    "colab": {
      "provenance": []
    }
  },
  "nbformat": 4,
  "nbformat_minor": 0
}