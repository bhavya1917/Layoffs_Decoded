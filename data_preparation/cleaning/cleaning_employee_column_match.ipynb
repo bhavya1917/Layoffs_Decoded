{
 "cells": [
  {
   "cell_type": "code",
   "execution_count": 1,
   "metadata": {},
   "outputs": [],
   "source": [
    "import os\n",
    "import pandas as pd\n",
    "import csv\n",
    "import re"
   ]
  },
  {
   "cell_type": "code",
   "execution_count": 11,
   "metadata": {},
   "outputs": [],
   "source": [
    "def match_label(to_match, labels):\n",
    "    match_regex = re.compile(f\".*({to_match}).*\", flags=re.IGNORECASE)\n",
    "    desired_regex = re.compile(r\".*(interest|desire|prefer|open).*\", flags=re.IGNORECASE)\n",
    "    matched_label = None\n",
    "    desired_label = None\n",
    "    for label in labels:\n",
    "        if match_regex.match(label):\n",
    "            if desired_regex.match(label):\n",
    "                desired_label = label\n",
    "            else:\n",
    "                matched_label = label\n",
    "    if matched_label is None and desired_label:\n",
    "        matched_label = desired_label\n",
    "    return matched_label"
   ]
  },
  {
   "cell_type": "code",
   "execution_count": 31,
   "metadata": {},
   "outputs": [],
   "source": [
    "def detect_interested_label(labels: list[str]):\n",
    "    \"\"\"\n",
    "    Detect labels of interested, i.e [\"name or email (as ID)\", \"title/role\", \"department/area/function\", \"location\"]\n",
    "    \"\"\"\n",
    "    title_label = match_label(\"title|role|position|domain\", labels)\n",
    "    function_label = match_label(\"department|area|function|team|discipline\", labels)\n",
    "    city_label = match_label(\"city\", labels)\n",
    "    country_label = match_label(\"country\", labels)\n",
    "    location_label = match_label(\"location\", labels)\n",
    "    name_label = match_label(\"name\", labels)\n",
    "    location_label = city_label or country_label or location_label\n",
    "    # label_list = [title_label, function_label, location_label]\n",
    "    # return label_list\n",
    "    label_map = {\n",
    "        \"name\": name_label,\n",
    "        \"title\": title_label,\n",
    "        \"function\": function_label,\n",
    "        \"location\": location_label\n",
    "    }\n",
    "    return label_map"
   ]
  },
  {
   "cell_type": "code",
   "execution_count": 16,
   "metadata": {},
   "outputs": [],
   "source": [
    "# Create an empty list to store the first row of each CSV file\n",
    "first_rows = []\n",
    "\n",
    "# if the first column more than 50 character it is not likely to be column\n",
    "len_character_threshold = 50\n",
    "\n",
    "# Define a regular expression pattern to match HTML tags\n",
    "html_tag_pattern = re.compile(r'<\\s*(html|head|body|table)\\b[^>]*>', re.IGNORECASE)\n",
    "\n",
    "invalid_first_row_count = 0\n",
    "invalid_file_count = 0\n",
    "employee_count = 0\n",
    "\n",
    "def clean_csv(input_file, output_dir):\n",
    "    rows = []\n",
    "    labels = []\n",
    "    # print(f\"Opening file: {input_file}\")\n",
    "    # Open the CSV file\n",
    "    with open(input_file, 'r', encoding='utf-8') as csvfile:\n",
    "        # Read the entire contents of the CSV file as a string\n",
    "        file_content = csvfile.read()\n",
    "        \n",
    "        # Check if the file contains any HTML tags\n",
    "        if re.search(html_tag_pattern, file_content):\n",
    "            # Skip to the next file if the file contains HTML content\n",
    "            print(f\"skipping: HTML element found in file {input_file}\")\n",
    "            return None\n",
    "        \n",
    "        csvfile.seek(0)  # move file pointer to start of file\n",
    "        # Create a CSV reader object\n",
    "        reader = csv.reader(csvfile, delimiter=',')\n",
    "        try:\n",
    "            # Get the first row of the CSV file\n",
    "            while len(labels) == 0:\n",
    "                current_row = next(reader)\n",
    "                if (len(current_row[0]) >= len_character_threshold) \\\n",
    "                        or (len(current_row) > 1 and len(current_row[1]) >= len_character_threshold):\n",
    "                    # print(\"skipping: too many characters in first row cell\")\n",
    "                    # print(current_row[0])\n",
    "                    continue\n",
    "\n",
    "                row_text = \"|\".join(current_row).lower()\n",
    "                if row_text.find(\"name\") != -1 or \\\n",
    "                    row_text.find(\"nome\") != -1 or \\\n",
    "                    row_text.find(\"nombre\") != -1:\n",
    "                    labels = current_row\n",
    "\n",
    "            print(f\"label row found: {labels}\")\n",
    "            interested_labels = [\"||\".join(labels)]\n",
    "            interested_labels.extend(detect_interested_label(labels))\n",
    "            return interested_labels\n",
    "        \n",
    "            while False:\n",
    "                row = next(reader)\n",
    "                if len(row) <= len(labels):\n",
    "                    if \"\".join(row).strip() == \"\":\n",
    "                        print(\"skipping empty row\")\n",
    "                        continue\n",
    "                    rows.append(row)\n",
    "                else:\n",
    "                    rows.append(row[:len(labels)])\n",
    "        except StopIteration as e:\n",
    "            print(f\"Reached end of file: {input_file}\")\n",
    "            # Skip this file if it has less than one row\n",
    "            if len(labels) > 0 and len(rows) > 0:\n",
    "                df = pd.DataFrame(rows, columns=labels)\n",
    "                output_file = input_file.split('/')[-1].split('.')[0]\n",
    "                output_path = f\"{output_dir}/{output_file}-cleaned.csv\"\n",
    "                print(f\"writing output file to {output_path}\")\n",
    "                df.to_csv(output_path)\n",
    "                return output_path\n",
    "            return None\n",
    "        except Exception as e:\n",
    "            print(f\"Exception error file not valid: {e} in {input_file}\")\n",
    "            return None"
   ]
  },
  {
   "cell_type": "code",
   "execution_count": null,
   "metadata": {},
   "outputs": [],
   "source": [
    "folder_path = \"../../employee_csv_20230322/\"\n",
    "label_data = []\n",
    "invalid_files = []\n",
    "for filename in os.listdir(folder_path):\n",
    "    if filename.endswith('.csv'):\n",
    "        interested_labels = clean_csv(input_file=f\"{folder_path}/{filename}\", output_dir=\"output\")\n",
    "        d = [filename]\n",
    "        if interested_labels is not None:\n",
    "            d.extend(interested_labels)\n",
    "            label_data.append(d)\n",
    "        else:\n",
    "            invalid_files.append(filename)\n",
    "        #     d.extend([\"\", \"\"])\n",
    "        #     label_data.append()\n",
    "label_df = pd.DataFrame(data=label_data, columns=[\"file_name\", \"labels\", \"title_label\", \"function_label\", \"location_label\"])\n",
    "print(label_df.shape)\n",
    "print(label_df[label_df[\"function_label\"].isna()].shape)"
   ]
  },
  {
   "cell_type": "code",
   "execution_count": 26,
   "metadata": {},
   "outputs": [],
   "source": [
    "def extract_csv(input_file):\n",
    "    df = pd.read_csv(input_file)\n",
    "    return df\n",
    "    found = [i for i in range(0, len(df.columns)) \\\n",
    "        if df.columns[i]=='title' or df.columns[i]=='location' or df.columns[i]=='function']\n",
    "    if len(found) == 3:\n",
    "        extracted_df = df[['title','location','function']]\n",
    "        return extracted_df\n",
    "    return None"
   ]
  },
  {
   "cell_type": "code",
   "execution_count": 39,
   "metadata": {},
   "outputs": [],
   "source": [
    "def combine_csv(inputs, output_dir):\n",
    "    combined_df = pd.DataFrame(columns=['name','title','function','location'])\n",
    "    combined_file_path = f\"{output_dir}/employee_merged_csv.csv\"\n",
    "    for f in inputs:\n",
    "        csv_df = extract_csv(f)\n",
    "        combined_df = pd.concat([combined_df, csv_df], ignore_index=True)\n",
    "    combined_df.to_csv(combined_file_path)\n",
    "    return combined_file_path"
   ]
  },
  {
   "cell_type": "code",
   "execution_count": 42,
   "metadata": {},
   "outputs": [
    {
     "ename": "FileNotFoundError",
     "evalue": "[Errno 2] No such file or directory: '../../employee_cleaned_csv_20230323/'",
     "output_type": "error",
     "traceback": [
      "\u001b[0;31m---------------------------------------------------------------------------\u001b[0m",
      "\u001b[0;31mFileNotFoundError\u001b[0m                         Traceback (most recent call last)",
      "Cell \u001b[0;32mIn[42], line 2\u001b[0m\n\u001b[1;32m      1\u001b[0m folder_path \u001b[39m=\u001b[39m \u001b[39m\"\u001b[39m\u001b[39m../../employee_cleaned_csv_20230323/\u001b[39m\u001b[39m\"\u001b[39m\n\u001b[0;32m----> 2\u001b[0m inputs \u001b[39m=\u001b[39m \u001b[39mlist\u001b[39m([\u001b[39mf\u001b[39m\u001b[39m\"\u001b[39m\u001b[39m{\u001b[39;00mfolder_path\u001b[39m}\u001b[39;00m\u001b[39m{\u001b[39;00mf\u001b[39m}\u001b[39;00m\u001b[39m\"\u001b[39m \u001b[39mfor\u001b[39;00m f \u001b[39min\u001b[39;00m os\u001b[39m.\u001b[39;49mlistdir(folder_path)])\n\u001b[1;32m      3\u001b[0m combined_df \u001b[39m=\u001b[39m combine_csv(\n\u001b[1;32m      4\u001b[0m     inputs\u001b[39m=\u001b[39minputs[:\u001b[39m10\u001b[39m],\n\u001b[1;32m      5\u001b[0m     output_dir\u001b[39m=\u001b[39m\u001b[39m\"\u001b[39m\u001b[39m../../out\u001b[39m\u001b[39m\"\u001b[39m\n\u001b[1;32m      6\u001b[0m )\n",
      "\u001b[0;31mFileNotFoundError\u001b[0m: [Errno 2] No such file or directory: '../../employee_cleaned_csv_20230323/'"
     ]
    }
   ],
   "source": [
    "folder_path = \"../../employee_cleaned_csv_20230323/\"\n",
    "inputs = list([f\"{folder_path}{f}\" for f in os.listdir(folder_path)])\n",
    "combined_df = combine_csv(\n",
    "    inputs=inputs[:10],\n",
    "    output_dir=\"../../out\"\n",
    ")"
   ]
  },
  {
   "cell_type": "code",
   "execution_count": null,
   "metadata": {},
   "outputs": [],
   "source": []
  }
 ],
 "metadata": {
  "kernelspec": {
   "display_name": "ds",
   "language": "python",
   "name": "python3"
  },
  "language_info": {
   "codemirror_mode": {
    "name": "ipython",
    "version": 3
   },
   "file_extension": ".py",
   "mimetype": "text/x-python",
   "name": "python",
   "nbconvert_exporter": "python",
   "pygments_lexer": "ipython3",
   "version": "3.9.16"
  },
  "orig_nbformat": 4
 },
 "nbformat": 4,
 "nbformat_minor": 2
}
