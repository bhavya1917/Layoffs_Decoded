{
 "cells": [
  {
   "cell_type": "code",
   "execution_count": 109,
   "metadata": {},
   "outputs": [],
   "source": [
    "import io\n",
    "import pandas as pd\n",
    "import requests\n",
    "import csv"
   ]
  },
  {
   "cell_type": "code",
   "execution_count": 110,
   "metadata": {},
   "outputs": [],
   "source": [
    "FMP_API_ENDPOINT=\"https://financialmodelingprep.com/api\"\n",
    "FMP_API_KEY=\"\""
   ]
  },
  {
   "cell_type": "code",
   "execution_count": 193,
   "metadata": {},
   "outputs": [],
   "source": [
    "def process_fmp_financial_statements(file_path):\n",
    "    raw_df = pd.read_csv(file_path)\n",
    "    raw_df.rename({\"Unnamed: 1\": \"metric\"}, axis=1, inplace=True)\n",
    "    df = raw_df[~raw_df['metric'].isna()]\n",
    "    df = df.drop(\"date\", axis=1)\n",
    "    df = df.rename({\"metric\": \"date\"}, axis=1)\n",
    "    df = df.set_index(\"date\").transpose()\n",
    "    df = df.sort_index(ascending=False)\n",
    "    return df\n"
   ]
  },
  {
   "cell_type": "code",
   "execution_count": 206,
   "metadata": {},
   "outputs": [],
   "source": [
    "def pull_fmp_financial_statements(stock_symbols, output_dir):\n",
    "    statment_types = [\"income-statement\", \"balance-sheet-statement\", \"cash-flow-statement\"]\n",
    "    session = requests.Session()\n",
    "    for sym in stock_symbols:\n",
    "        for stmt_type in statment_types:\n",
    "            statement_url = f\"{FMP_API_ENDPOINT}/v3/{stmt_type}/{sym}\"\n",
    "            resp = session.get(url = statement_url, params={\n",
    "                    \"apikey\": FMP_API_KEY,\n",
    "                    \"period\": \"quarter\",\n",
    "                    \"limit\": 1,\n",
    "                    \"datatype\": \"csv\"\n",
    "                })\n",
    "            if resp.status_code != 200:\n",
    "                raise RuntimeError(f\"http status is {resp.status_code}\")\n",
    "            file_name = f\"{output_dir}/{sym}-{stmt_type}\"\n",
    "            raw_file_path = f\"{file_name}-raw.csv\"\n",
    "            processed_file_path = f\"{file_name}.csv\"\n",
    "            with open(raw_file_path, 'w', encoding='utf-8') as f:\n",
    "                writer = csv.writer(f)\n",
    "                reader = csv.reader(resp.content.decode('utf-8').splitlines())\n",
    "                for row in reader:\n",
    "                    if len(row) >= 3 and len(row[2]) > 0:\n",
    "                        writer.writerow(row)\n",
    "            df = process_fmp_financial_statements(raw_file_path)\n",
    "            df.to_csv(processed_file_path)\n"
   ]
  },
  {
   "cell_type": "code",
   "execution_count": 207,
   "metadata": {},
   "outputs": [],
   "source": [
    "output_dir=\"./\"\n",
    "pull_fmp_financial_statements([\"AAPL\", \"MSFT\", \"GOOGL\"], output_dir)"
   ]
  },
  {
   "cell_type": "code",
   "execution_count": null,
   "metadata": {},
   "outputs": [],
   "source": [
    "def pull_stock_sentiments(stock_symbol, output_dir):\n",
    "    session = requests.Session()\n",
    "    sentiment_url = f\"{FMP_API_ENDPOINT}/v4/historical/social-sentiment\"\n",
    "    resp = session.get(url=sentiment_url, params={\n",
    "        \"symbol\": stock_symbol,\n",
    "        \"apikey\": FMP_API_KEY,\n",
    "        \"page\": 0\n",
    "    })"
   ]
  }
 ],
 "metadata": {
  "kernelspec": {
   "display_name": "ds",
   "language": "python",
   "name": "python3"
  },
  "language_info": {
   "codemirror_mode": {
    "name": "ipython",
    "version": 3
   },
   "file_extension": ".py",
   "mimetype": "text/x-python",
   "name": "python",
   "nbconvert_exporter": "python",
   "pygments_lexer": "ipython3",
   "version": "3.9.16"
  },
  "orig_nbformat": 4
 },
 "nbformat": 4,
 "nbformat_minor": 2
}
