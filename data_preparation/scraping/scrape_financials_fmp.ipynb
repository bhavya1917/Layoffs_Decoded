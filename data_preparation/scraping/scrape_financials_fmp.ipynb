{
 "cells": [
  {
   "cell_type": "code",
   "execution_count": 13,
   "metadata": {},
   "outputs": [],
   "source": [
    "import io\n",
    "import pandas as pd\n",
    "import requests\n",
    "import csv\n",
    "import re"
   ]
  },
  {
   "cell_type": "code",
   "execution_count": 45,
   "metadata": {},
   "outputs": [],
   "source": [
    "FMP_API_ENDPOINT=\"https://financialmodelingprep.com/api\"\n",
    "FMP_API_KEY=\"6b5ead8d3c6bceb25d50bc6237dc8543\""
   ]
  },
  {
   "cell_type": "code",
   "execution_count": 46,
   "metadata": {},
   "outputs": [],
   "source": [
    "def process_fmp_financial_statements(file_path):\n",
    "    raw_df = pd.read_csv(file_path)\n",
    "    raw_df.rename({\"Unnamed: 1\": \"metric\"}, axis=1, inplace=True)\n",
    "    df = raw_df[~raw_df['metric'].isna()]\n",
    "    df = df.drop(\"date\", axis=1)\n",
    "    df = df.rename({\"metric\": \"date\"}, axis=1)\n",
    "    df = df.set_index(\"date\").transpose()\n",
    "    df.index = df.index.map(lambda s: re.sub(r\"_Q[1-4]\", \"\", s))\n",
    "    df = df.sort_index(ascending=False)\n",
    "    return df\n"
   ]
  },
  {
   "cell_type": "code",
   "execution_count": 59,
   "metadata": {},
   "outputs": [],
   "source": [
    "def pull_fmp_financial_statements(stock_symbols, output_dir):\n",
    "    statment_types = [\"income-statement\", \"balance-sheet-statement\", \"cash-flow-statement\"]\n",
    "    session = requests.Session()\n",
    "    for raw_sym in stock_symbols:\n",
    "        sym = raw_sym.replace(\"/\", \"-\")\n",
    "        merged_file_name = f\"{output_dir}/{sym}-all.csv\"\n",
    "        merged_df = None\n",
    "        for stmt_type in statment_types:\n",
    "            statement_url = f\"{FMP_API_ENDPOINT}/v3/{stmt_type}/{sym}\"\n",
    "            resp = session.get(url = statement_url, params={\n",
    "                    \"apikey\": FMP_API_KEY,\n",
    "                    \"period\": \"quarter\",\n",
    "                    \"limit\": 1,\n",
    "                    \"datatype\": \"csv\"\n",
    "                })\n",
    "            if resp.status_code != 200:\n",
    "                raise RuntimeError(f\"http status is {resp.status_code}\")\n",
    "            file_name = f\"{output_dir}/{sym}-{stmt_type}\"\n",
    "            raw_file_path = f\"{file_name}-raw.csv\"\n",
    "            processed_file_path = f\"{file_name}.csv\"\n",
    "            with open(raw_file_path, 'w', encoding='utf-8') as f:\n",
    "                writer = csv.writer(f)\n",
    "                reader = csv.reader(resp.content.decode('utf-8').splitlines())\n",
    "                for row in reader:\n",
    "                    if len(row) >= 3 and len(row[2]) > 0:\n",
    "                        writer.writerow(row)\n",
    "            df = process_fmp_financial_statements(raw_file_path)\n",
    "            # df.to_csv(processed_file_path)\n",
    "            if merged_df is not None:\n",
    "                merged_df = merged_df.join(other=df, how=\"outer\", rsuffix=f\"_{stmt_type}\")\n",
    "            else:\n",
    "                merged_df = df\n",
    "        merged_df = merged_df.sort_index(ascending=False)\n",
    "        merged_df.to_csv(merged_file_name, index=True)"
   ]
  },
  {
   "cell_type": "code",
   "execution_count": 60,
   "metadata": {},
   "outputs": [],
   "source": [
    "output_dir=\"../../output\"\n",
    "pull_fmp_financial_statements([\"AAPL\"], output_dir)\n",
    "\n",
    "# process_fmp_financial_statements(file_path=\"../../output/AAPL-balance-sheet-statement-raw.csv\")"
   ]
  },
  {
   "cell_type": "code",
   "execution_count": 62,
   "metadata": {},
   "outputs": [
    {
     "data": {
      "text/plain": [
       "Index(['revenue', 'costOfRevenue', 'grossProfit', 'grossProfitRatio',\n",
       "       'ResearchAndDevelopmentExpenses', 'GeneralAndAdministrativeExpenses',\n",
       "       'SellingAndMarketingExpenses', 'otherExpenses', 'operatingExpenses',\n",
       "       'costAndExpenses', 'interestExpense', 'depreciationAndAmortization',\n",
       "       'EBITDA', 'EBITDARatio', 'operatingIncome', 'operatingIncomeRatio',\n",
       "       'totalOtherIncomeExpensesNet', 'incomeBeforeTax',\n",
       "       'incomeBeforeTaxRatio', 'incomeTaxExpense', 'netIncome',\n",
       "       'netIncomeRatio', 'EPS', 'EPSDiluted', 'weightedAverageShsOut',\n",
       "       'weightedAverageShsOutDil', 'cashAndCashEquivalents',\n",
       "       'shortTermInvestments', 'cashAndShortTermInvestments', 'netReceivables',\n",
       "       'inventory', 'otherCurrentAssets', 'totalCurrentAssets',\n",
       "       'propertyPlantEquipmentNet', 'goodwill', 'intangibleAssets',\n",
       "       'goodwillAndIntangibleAssets', 'longTermInvestments', 'taxAssets',\n",
       "       'otherNonCurrentAssets', 'totalNonCurrentAssets', 'otherAssets',\n",
       "       'totalAssets', 'accountPayables', 'shortTermDebt', 'taxPayables',\n",
       "       'deferredRevenue', 'otherCurrentLiabilities', 'totalCurrentLiabilities',\n",
       "       'longTermDebt', 'deferredRevenueNonCurrent',\n",
       "       'deferrredTaxLiabilitiesNonCurrent', 'otherNonCurrentLiabilities',\n",
       "       'totalNonCurrentLiabilities', 'otherLiabilities', 'totalLiabilities',\n",
       "       'commonStock', 'retainedEarnings',\n",
       "       'accumulatedOtherComprehensiveIncomeLoss',\n",
       "       'othertotalStockholdersEquity', 'totalStockholdersEquity',\n",
       "       'totalLiabilitiesAndStockholdersEquity', 'totalInvestments',\n",
       "       'totalDebt', 'netDebt', 'netIncomecash-flow-statement',\n",
       "       'depreciationAndAmortizationcash-flow-statement', 'deferredIncomeTax',\n",
       "       'stockBasedCompensation', 'changeInWorkingCapital',\n",
       "       'accountsReceivables', 'inventorycash-flow-statement',\n",
       "       'accountsPayables', 'otherWorkingCapital', 'otherNonCashItems',\n",
       "       'netCashProvidedByOperatingActivites',\n",
       "       'investmentsInPropertyPlantAndEquipment', 'acquisitionsNet',\n",
       "       'purchasesOfInvestments', 'salesMaturitiesOfInvestments',\n",
       "       'otherInvestingActivites', 'netCashUsedForInvestingActivites',\n",
       "       'debtRepayment', 'commonStockIssued', 'commonStockRepurchased',\n",
       "       'dividendsPaid', 'otherFinancingActivites',\n",
       "       'netCashUsedProvidedByFinancingActivities',\n",
       "       'effectOfForexChangesOnCash', 'netChangeInCash', 'cashAtEndOfPeriod',\n",
       "       'cashAtBeginningOfPeriod', 'operatingCashFlow', 'capitalExpenditure',\n",
       "       'freeCashFlow'],\n",
       "      dtype='object')"
      ]
     },
     "execution_count": 62,
     "metadata": {},
     "output_type": "execute_result"
    }
   ],
   "source": [
    "df = pd.read_csv(\"../../output/AAPL-all.csv\", index_col=0)\n",
    "df.columns"
   ]
  },
  {
   "cell_type": "code",
   "execution_count": null,
   "metadata": {},
   "outputs": [],
   "source": []
  }
 ],
 "metadata": {
  "kernelspec": {
   "display_name": "ds",
   "language": "python",
   "name": "python3"
  },
  "language_info": {
   "codemirror_mode": {
    "name": "ipython",
    "version": 3
   },
   "file_extension": ".py",
   "mimetype": "text/x-python",
   "name": "python",
   "nbconvert_exporter": "python",
   "pygments_lexer": "ipython3",
   "version": "3.9.16"
  },
  "orig_nbformat": 4
 },
 "nbformat": 4,
 "nbformat_minor": 2
}
